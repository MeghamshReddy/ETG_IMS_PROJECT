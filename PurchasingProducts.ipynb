{
 "cells": [
  {
   "cell_type": "code",
   "execution_count": 6,
   "metadata": {},
   "outputs": [],
   "source": [
    "import json\n",
    "\n",
    "fd = open(\"C:\\\\Users\\\\HP\\\\Downloads\\\\records.json\",'r')\n",
    "r = fd.read()\n",
    "fd.close()\n",
    "\n",
    "records = json.loads(r)"
   ]
  },
  {
   "cell_type": "code",
   "execution_count": 7,
   "metadata": {},
   "outputs": [
    {
     "data": {
      "text/plain": [
       "{'1231': {'Name': 'Chocolate Cake', 'quantity': 100, 'price': 34},\n",
       " '1232': {'Name': 'Milk Cake', 'quantity': 100, 'price': 80},\n",
       " '1233': {'Name': 'Drink', 'quantity': 100, 'price': 85},\n",
       " '1234': {'Name': 'Candy', 'quantity': 1000, 'price': 5},\n",
       " '1235': {'Name': 'Pen', 'quantity': 100, 'price': 20},\n",
       " '1236': {'Name': 'Phone', 'quantity': 10, 'price': 50000},\n",
       " '1237': {'Name': 'Mic', 'quantity': 5, 'price': 1500},\n",
       " '1238': {'Name': 'Case', 'price': 599, 'quantity': 5},\n",
       " '1239': {'Name': 'Keyboard', 'quantity': 10, 'price': 1999},\n",
       " '12310': {'Name': 'Biscuit', 'quantity': 34, 'price': 100},\n",
       " '12311': {'Name': 'Normal Cake', 'quantity': 50, 'price': 50},\n",
       " '12312': {'Name': 'Chocos', 'quantity': 50, 'price': 100},\n",
       " '12313': {'Name': 'oats', 'quantity': 44, 'price': 100},\n",
       " '12314': {'Name': 'almonds', 'quantity': 30, 'price': 150},\n",
       " '12315': {'Name': 'cashew', 'quantity': 45, 'price': 125},\n",
       " '12316': {'Name': 'Dates', 'quantity': 30, 'price': 200},\n",
       " '12317': {'Name': 'chocolate biscuit', 'quantity': 50, 'price': 20},\n",
       " '12318': {'Name': 'Bread', 'quantity': 30, 'price': 30},\n",
       " '12319': {'Name': 'Brown Bread', 'quantity': 20, 'price': 60},\n",
       " '12320': {'Name': 'Soap', 'quantity': 30, 'price': 25},\n",
       " '12321': {'Name': 'Surf', 'quantity': 10, 'price': 100},\n",
       " '12322': {'Name': 'Coconut oil', 'quantity': 35, 'price': 50},\n",
       " '12323': {'Name': 'Almond oil', 'quantity': 24, 'price': 80},\n",
       " '12324': {'Name': 'palm oil', 'quantity': 30, 'price': 110},\n",
       " '12325': {'Name': 'Laptop', 'quantity': 10, 'price': 60000},\n",
       " '12326': {'Name': 'Slippers', 'quantity': 50, 'price': 250},\n",
       " '12327': {'Name': 'Racquet', 'quantity': 14, 'price': 500},\n",
       " '12328': {'Name': 'Foot ball', 'quantity': 15, 'price': 700},\n",
       " '12329': {'Name': 'Cricket bat', 'quantity': 10, 'price': 900},\n",
       " '12330': {'Name': 'TV', 'quantity': 24, 'price': 15000}}"
      ]
     },
     "execution_count": 7,
     "metadata": {},
     "output_type": "execute_result"
    }
   ],
   "source": [
    "records"
   ]
  },
  {
   "cell_type": "code",
   "execution_count": 14,
   "metadata": {},
   "outputs": [
    {
     "name": "stdout",
     "output_type": "stream",
     "text": [
      "Enter the product_Id: 1231\n",
      "Enter the quantity: 2\n",
      "Product:  Chocolate Cake\n",
      "Price:  34\n",
      "Billing Amount:  68\n"
     ]
    }
   ],
   "source": [
    "ui_product  = input(\"Enter the product_Id: \")\n",
    "ui_quantity = int(input(\"Enter the quantity: \"))\n",
    "\n",
    "\n",
    "print(\"Product: \", records[ui_product]['Name'])\n",
    "print(\"Price: \", records[ui_product]['price'])\n",
    "print(\"Billing Amount: \", records[ui_product]['price'] * ui_quantity)\n",
    "\n",
    "records[ui_product]['quantity'] = records[ui_product]['quantity'] - ui_quantity"
   ]
  },
  {
   "cell_type": "code",
   "execution_count": 15,
   "metadata": {},
   "outputs": [],
   "source": [
    "js = json.dumps(records)\n",
    "\n",
    "fd = open(\"C:\\\\Users\\\\HP\\\\Downloads\\\\records.json\",'w')\n",
    "fd.write(js)\n",
    "fd.close()"
   ]
  },
  {
   "cell_type": "code",
   "execution_count": 16,
   "metadata": {},
   "outputs": [
    {
     "data": {
      "text/plain": [
       "{'product': '1231', 'quantity': 2, 'amount': 68}"
      ]
     },
     "execution_count": 16,
     "metadata": {},
     "output_type": "execute_result"
    }
   ],
   "source": [
    "{'product' : ui_product, 'quantity' : ui_quantity, 'amount': records[ui_product]['price'] * ui_quantity}"
   ]
  },
  {
   "cell_type": "code",
   "execution_count": 17,
   "metadata": {},
   "outputs": [],
   "source": [
    "sales = {1 : {'product' : ui_product, 'quantity' : ui_quantity, 'amount': records[ui_product]['price'] * ui_quantity},\n",
    "         2 : {'product' : ui_product, 'quantity' : ui_quantity, 'amount': records[ui_product]['price'] * ui_quantity},\n",
    "         3 : {'product' : ui_product, 'quantity' : ui_quantity, 'amount': records[ui_product]['price'] * ui_quantity}}"
   ]
  },
  {
   "cell_type": "code",
   "execution_count": 18,
   "metadata": {},
   "outputs": [],
   "source": [
    "sale = json.dumps(sales)"
   ]
  },
  {
   "cell_type": "code",
   "execution_count": null,
   "metadata": {},
   "outputs": [],
   "source": []
  }
 ],
 "metadata": {
  "kernelspec": {
   "display_name": "Python 3",
   "language": "python",
   "name": "python3"
  },
  "language_info": {
   "codemirror_mode": {
    "name": "ipython",
    "version": 3
   },
   "file_extension": ".py",
   "mimetype": "text/x-python",
   "name": "python",
   "nbconvert_exporter": "python",
   "pygments_lexer": "ipython3",
   "version": "3.8.5"
  }
 },
 "nbformat": 4,
 "nbformat_minor": 4
}
